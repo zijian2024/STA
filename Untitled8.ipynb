{
 "cells": [
  {
   "cell_type": "code",
   "execution_count": 1,
   "id": "b1f46aa6",
   "metadata": {},
   "outputs": [
    {
     "ename": "SyntaxError",
     "evalue": "invalid syntax (153292618.py, line 1)",
     "output_type": "error",
     "traceback": [
      "\u001b[0;36m  Cell \u001b[0;32mIn[1], line 1\u001b[0;36m\u001b[0m\n\u001b[0;31m    Standard deviation (SD) describes how far each value in the data is from the mean. It tells us how fragmented the data is. If the SD is large, the data points are spread widely; If SD is small, the data points are clustered tightly.\u001b[0m\n\u001b[0m             ^\u001b[0m\n\u001b[0;31mSyntaxError\u001b[0m\u001b[0;31m:\u001b[0m invalid syntax\n"
     ]
    }
   ],
   "source": [
    "Standard deviation (SD) describes how far each value in the data is from the mean. It tells us how fragmented the data is. If the SD is large, the data points are spread widely; If SD is small, the data points are clustered tightly.\n",
    "\n",
    "The standard mean error (SEM) tells us how accurate it is to use the mean of the sample to estimate the population mean. It reflects how much the average will change if we take multiple samples from the same population. The more samples, the smaller the SEM, the more accurate the estimation.\n",
    "\n",
    "Standard deviation (SD) indicates how far a data point is from the average and reflects the fluctuation of the data. The standard mean error (SEM) represents the accuracy of the sample mean to estimate the population mean, and the more samples, the more accurate the estimate.\n",
    " "
   ]
  },
  {
   "cell_type": "code",
   "execution_count": 2,
   "id": "1075ca9a",
   "metadata": {},
   "outputs": [
    {
     "ename": "SyntaxError",
     "evalue": "invalid syntax (2383660756.py, line 1)",
     "output_type": "error",
     "traceback": [
      "\u001b[0;36m  Cell \u001b[0;32mIn[2], line 1\u001b[0;36m\u001b[0m\n\u001b[0;31m    First, we need to determine the standard error (SEM) of the mean. Second, we need to get a z-score of\u001b[0m\n\u001b[0m              ^\u001b[0m\n\u001b[0;31mSyntaxError\u001b[0m\u001b[0;31m:\u001b[0m invalid syntax\n"
     ]
    }
   ],
   "source": [
    "First, we need to determine the standard error (SEM) of the mean. Second, we need to get a z-score of\n",
    "95% confidence interval, which is 1.96. Third, we need to calculate the error range by multiplying the\n",
    "z-score with the SEM :1.96 x SEM. Fourth, after knowing the error range, we can subtract the mean from the error\n",
    "    range to calculate the lower bound of the 95% confidence interval, and add the mean to the error range to \n",
    "    calculate the upper bound of the interval."
   ]
  },
  {
   "cell_type": "code",
   "execution_count": 1,
   "id": "04e62f15",
   "metadata": {},
   "outputs": [
    {
     "ename": "SyntaxError",
     "evalue": "invalid syntax (1725287935.py, line 1)",
     "output_type": "error",
     "traceback": [
      "\u001b[0;36m  Cell \u001b[0;32mIn[1], line 1\u001b[0;36m\u001b[0m\n\u001b[0;31m    First, we need to do a bootstrap, that is, resampling the data by substitution to create many bootstrap samples. For each sample, we calculate the average. Then, we sort all the means incrementally. Next, we calculate the 2.5 and 97.5 percentiles as the lower and upper bounds of the 95% confidence interval, respectively.\u001b[0m\n\u001b[0m              ^\u001b[0m\n\u001b[0;31mSyntaxError\u001b[0m\u001b[0;31m:\u001b[0m invalid syntax\n"
     ]
    }
   ],
   "source": [
    "First, we need to do a bootstrap, that is, resampling the data by substitution to create many bootstrap samples. For each sample, we calculate the average. Then, we sort all the means incrementally. Next, we calculate the 2.5 and 97.5 percentiles as the lower and upper bounds of the 95% confidence interval, respectively.\n"
   ]
  },
  {
   "cell_type": "code",
   "execution_count": 2,
   "id": "c507171c",
   "metadata": {},
   "outputs": [],
   "source": [
    "def bootstrap_ci_median(data, num_bootstrap_samples=1000, ci_level=0.95):\n",
    "    bootstrap_medians = []\n",
    "    for _ in range(num_bootstrap_samples):\n",
    "        bootstrap_sample = np.random.choice(data, size=len(data), replace=True)\n",
    "        bootstrap_medians.append(np.median(bootstrap_sample))\n",
    "    lower_bound = np.percentile(bootstrap_medians, (1 - ci_level) / 2 * 100)\n",
    "    upper_bound = np.percentile(bootstrap_medians, (1 + ci_level) / 2 * 100)\n",
    "    return lower_bound, upper_bound\n",
    "\n"
   ]
  },
  {
   "cell_type": "code",
   "execution_count": 3,
   "id": "eaf42397",
   "metadata": {},
   "outputs": [
    {
     "ename": "SyntaxError",
     "evalue": "invalid decimal literal (389580315.py, line 1)",
     "output_type": "error",
     "traceback": [
      "\u001b[0;36m  Cell \u001b[0;32mIn[3], line 1\u001b[0;36m\u001b[0m\n\u001b[0;31m    https://chatgpt.com/share/66ff5791-04a0-800b-bc85-75a11a3486cf\u001b[0m\n\u001b[0m                               ^\u001b[0m\n\u001b[0;31mSyntaxError\u001b[0m\u001b[0;31m:\u001b[0m invalid decimal literal\n"
     ]
    }
   ],
   "source": [
    "    I need to distinguish between population parameters and sample statistics because they play different roles in reasoning. An overall parameter is like a target that I really want to know, such as the average height of a population, or the overall effectiveness of a vaccine, but I usually can't know these values directly because I can't collect data on every person or every case.\n",
    "\n",
    "Sample statistics are what I calculate after taking a sample of the general population, such as calculating the average height of a small group of people, or calculating the effectiveness of a vaccine from them. These sample statistics can only be used as estimates of population parameters because different samples will give different results, which is called sampling error.\n",
    "\n",
    "Confidence intervals help me. It gives me a range through sample statistics and tells me that based on this sample result, I believe the overall parameters will fall within this range.\" The confidence interval made me realize that although I was using the sample statistic to estimate the population parameter, the estimate was not 100% accurate, but had some uncertainty. Therefore, confidence intervals allow me to make reasonable inferences in the face of uncertainty.\n",
    "\n",
    "We distinguish between population parameters and sample statistics in confidence intervals because:\n",
    "\n",
    "The population parameters are fixed but unknown and describe the whole population. Sample statistics are calculated from a sample and are used to estimate population parameters. The confidence interval provides a plausible range of values for the population parameters, taking into account the sampling variability of the sample statistics and the uncertainties in the estimates. Intervals help to infer populations from sample data.\n",
    " "
   ]
  },
  {
   "cell_type": "code",
   "execution_count": 4,
   "id": "f5b80acb",
   "metadata": {},
   "outputs": [
    {
     "ename": "SyntaxError",
     "evalue": "invalid decimal literal (2977192028.py, line 1)",
     "output_type": "error",
     "traceback": [
      "\u001b[0;36m  Cell \u001b[0;32mIn[4], line 1\u001b[0;36m\u001b[0m\n\u001b[0;31m    https://chatgpt.com/share/66ff5791-04a0-800b-bc85-75a11a3486cf\u001b[0m\n\u001b[0m                               ^\u001b[0m\n\u001b[0;31mSyntaxError\u001b[0m\u001b[0;31m:\u001b[0m invalid decimal literal\n"
     ]
    }
   ],
   "source": [
    "https://chatgpt.com/share/66ff5791-04a0-800b-bc85-75a11a3486cf\n",
    "    "
   ]
  },
  {
   "cell_type": "code",
   "execution_count": 5,
   "id": "799d753c",
   "metadata": {},
   "outputs": [
    {
     "ename": "SyntaxError",
     "evalue": "unterminated string literal (detected at line 3) (2692362519.py, line 3)",
     "output_type": "error",
     "traceback": [
      "\u001b[0;36m  Cell \u001b[0;32mIn[5], line 3\u001b[0;36m\u001b[0m\n\u001b[0;31m    and obtaining multiple samples can be time-consuming and expensive. In cases where we can't get the overall\u001b[0m\n\u001b[0m                                                                                             ^\u001b[0m\n\u001b[0;31mSyntaxError\u001b[0m\u001b[0;31m:\u001b[0m unterminated string literal (detected at line 3)\n"
     ]
    }
   ],
   "source": [
    "This technique is mainly used to estimate the distribution of a sample and to make statistical \n",
    "inferences about the population. Often, when we study a population, we may have limited sample resources on hand, \n",
    "and obtaining multiple samples can be time-consuming and expensive. In cases where we can't get the overall \n",
    "distribution and we can't take multiple samples, bootstrapping becomes very important\n",
    "\n",
    "In this example, I can use bootstrapping to randomly retractable multiple datasets from \n",
    "the existing sample, say 1000 times, each group the same size as the original sample, and calculate the\n",
    "average of each group. I then ranked these averages and looked at the sample mean of 2.5% and 97.5%, which would \n",
    "cover 95% of the data (in statistics, this is called a 95% confidence interval). If I assume that the population \n",
    "mean is in this range, then it's a reasonable guess; If not, you may want to reconsider this\n",
    " "
   ]
  },
  {
   "cell_type": "code",
   "execution_count": 6,
   "id": "7ea9b2d4",
   "metadata": {},
   "outputs": [
    {
     "ename": "SyntaxError",
     "evalue": "invalid syntax (39112144.py, line 1)",
     "output_type": "error",
     "traceback": [
      "\u001b[0;36m  Cell \u001b[0;32mIn[6], line 1\u001b[0;36m\u001b[0m\n\u001b[0;31m    When the confidence interval contains 0, this indicates a \"failure to reject the null hypothesis\" because the null hypothesis usually assumes no effect or difference. The confidence interval represents the range of possible values for the population parameter. If zero is contained within the interval, this means that the \"null effect\" is a realistic possibility, which indicates that there is not enough evidence to reject the null hypothesis. And if the confidence interval is excluded to zero, it indicates that the population parameter is likely not zero, from\u001b[0m\n\u001b[0m         ^\u001b[0m\n\u001b[0;31mSyntaxError\u001b[0m\u001b[0;31m:\u001b[0m invalid syntax\n"
     ]
    }
   ],
   "source": [
    "\n",
    "When the confidence interval contains 0, this indicates a \"failure to reject the null hypothesis\" because the null hypothesis usually assumes no effect or difference. The confidence interval represents the range of possible values for the population parameter. If zero is contained within the interval, this means that the \"null effect\" is a realistic possibility, which indicates that there is not enough evidence to reject the null hypothesis. And if the confidence interval is excluded to zero, it indicates that the population parameter is likely not zero, from\n",
    "\n",
    "Startup process:\n",
    "\n",
    "Bootstrapping is a resampling technique where you can create multiple \"bootstrap samples\" by repeatedly putting back contaminants from the data. For each bootstrap sample, you calculate the statistics of interest (such as the mean) and then create a distribution based on those statistics. This distribution helps us estimate confidence intervals and standard trays without making strong assumptions.\n",
    "\n",
    "Guiding purpose:\n",
    "\n",
    "Bootstrapping helps us estimate the sampling distribution of the statistic, especially when the true distribution is unknown or complex. It can be used to estimate confidence intervals\n",
    "\n",
    "Use Bootstrapping to evaluate the assumed mean:\n",
    "\n",
    "Assuming you have a guess of the population mean and a sample, you can use bootstrapping to generate many bootstrap samples and calculate the mean for each sample. Then, a mean interval is created from these bootstrap values. If the mean value of the hypothesis corresponds to the confidence interval, the hypothesis is reasonable.\n",
    "\n",
    "The confidence interval contains the relationship between zero and the null hypothesis:\n",
    "\n",
    "if\n",
    " "
   ]
  },
  {
   "cell_type": "code",
   "execution_count": 7,
   "id": "f45f6edd",
   "metadata": {},
   "outputs": [
    {
     "ename": "SyntaxError",
     "evalue": "invalid decimal literal (795365352.py, line 1)",
     "output_type": "error",
     "traceback": [
      "\u001b[0;36m  Cell \u001b[0;32mIn[7], line 1\u001b[0;36m\u001b[0m\n\u001b[0;31m    https://chatgpt.com/share/66ff5791-04a0-800b-bc85-75a11a3486cf\u001b[0m\n\u001b[0m                               ^\u001b[0m\n\u001b[0;31mSyntaxError\u001b[0m\u001b[0;31m:\u001b[0m invalid decimal literal\n"
     ]
    }
   ],
   "source": [
    "https://chatgpt.com/share/66ff5791-04a0-800b-bc85-75a11a3486cf"
   ]
  },
  {
   "cell_type": "code",
   "execution_count": 8,
   "id": "98838e1f",
   "metadata": {},
   "outputs": [
    {
     "data": {
      "image/png": "[encoded data removed]",
      "text/plain": [
       "<Figure size 800x600 with 1 Axes>"
      ]
     },
     "metadata": {},
     "output_type": "display_data"
    },
    {
     "name": "stdout",
     "output_type": "stream",
     "text": [
      "95% Confidence Interval for Health Score Change: (0.7, 5.5)\n"
     ]
    }
   ],
   "source": [
    "import numpy as np\n",
    "import pandas as pd\n",
    "import matplotlib.pyplot as plt\n",
    "\n",
    "# Set the random seed for reproducibility\n",
    "np.random.seed(42)\n",
    "\n",
    "# Create and read the CSV file\n",
    "data = \"\"\"PatientID,Age,Gender,InitialHealthScore,FinalHealthScore\n",
    "1,45,M,84,86\n",
    "2,34,F,78,86\n",
    "3,29,M,83,80\n",
    "4,52,F,81,86\n",
    "5,37,M,81,84\n",
    "6,41,F,80,86\n",
    "7,33,M,79,86\n",
    "8,48,F,85,82\n",
    "9,26,M,76,83\n",
    "10,39,F,83,84\n",
    "\"\"\"\n",
    "with open(\"vaccine_data.csv\", \"w\") as file:\n",
    "    file.write(data)\n",
    "\n",
    "df = pd.read_csv(\"vaccine_data.csv\")\n",
    "\n",
    "# Calculate the change in health score\n",
    "df['HealthScoreChange'] = df['FinalHealthScore'] - df['InitialHealthScore']\n",
    "\n",
    "# Visualization of Initial vs Final Health Scores\n",
    "plt.figure(figsize=(8, 6))\n",
    "plt.bar(df['PatientID'], df['InitialHealthScore'], label='Initial Health Score')\n",
    "plt.bar(df['PatientID'], df['FinalHealthScore'], label='Final Health Score', alpha=0.7)\n",
    "plt.xlabel('Patient ID')\n",
    "plt.ylabel('Health Score')\n",
    "plt.title('Comparison of Initial and Final Health Scores')\n",
    "plt.legend()\n",
    "plt.show()\n",
    "\n",
    "# Bootstrapping to analyze the change in health score\n",
    "def bootstrap_ci(data, num_samples=1000, ci_level=0.95):\n",
    "    bootstrap_means = []\n",
    "    for _ in range(num_samples):\n",
    "        sample = np.random.choice(data, size=len(data), replace=True)\n",
    "        bootstrap_means.append(np.mean(sample))\n",
    "    lower_bound = np.percentile(bootstrap_means, (1 - ci_level) / 2 * 100)\n",
    "    upper_bound = np.percentile(bootstrap_means, (1 + ci_level) / 2 * 100)\n",
    "    return lower_bound, upper_bound\n",
    "\n",
    "# Run bootstrap analysis on the Health Score Change\n",
    "ci_lower, ci_upper = bootstrap_ci(df['HealthScoreChange'])\n",
    "print(f\"95% Confidence Interval for Health Score Change: ({ci_lower}, {ci_upper})\")\n"
   ]
  },
  {
   "cell_type": "code",
   "execution_count": null,
   "id": "36f1691b",
   "metadata": {},
   "outputs": [],
   "source": []
  }
 ],
 "metadata": {
  "kernelspec": {
   "display_name": "Python 3 (ipykernel)",
   "language": "python",
   "name": "python3"
  },
  "language_info": {
   "codemirror_mode": {
    "name": "ipython",
    "version": 3
   },
   "file_extension": ".py",
   "mimetype": "text/x-python",
   "name": "python",
   "nbconvert_exporter": "python",
   "pygments_lexer": "ipython3",
   "version": "3.11.6"
  }
 },
 "nbformat": 4,
 "nbformat_minor": 5
}
